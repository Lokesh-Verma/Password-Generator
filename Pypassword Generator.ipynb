{
 "cells": [
  {
   "cell_type": "code",
   "execution_count": 1,
   "metadata": {},
   "outputs": [
    {
     "name": "stdout",
     "output_type": "stream",
     "text": [
      "Welcome to the Pypassword Generator\n",
      "How many letters would you like in your password?\n",
      "6\n",
      "How many numbers would you like in your password?\n",
      "8\n",
      "How many symbols would you like in your password?\n",
      "3\n",
      "CD6w86(*30!6H)!(&Ix)06\n"
     ]
    }
   ],
   "source": [
    "import random\n",
    "letters = ['a', 'b', 'c', 'd', 'e', 'f', 'g', 'h', 'i', 'j', 'k', 'l', 'm', 'n', 'o', 'p', 'q', 'r', 's', 't', 'u', 'v', 'w', 'x', 'y', 'z', 'A', 'B', 'C', 'D', 'E', 'F', 'G', 'H', 'I', 'J', 'K', 'L', 'M', 'N', 'O', 'P', 'Q', 'R', 'S', 'T', 'U', 'V', 'W', 'X', 'Y', 'Z']\n",
    "numbers = ['0', '1', '2', '3', '4', '5', '6', '7', '8', '9']\n",
    "symbols = ['!', '#', '$', '%', '&', '(', ')', '*', '+']\n",
    "print(\"Welcome to the Pypassword Generator\")\n",
    "l=int(input(\"How many letters would you like in your password?\\n\"))\n",
    "n=int(input(\"How many numbers would you like in your password?\\n\"))\n",
    "s=int(input(\"How many symbols would you like in your password?\\n\"))\n",
    "\n",
    "password=[]\n",
    "for letter in range(1,l+1):\n",
    "    password+=random.choice(letters)\n",
    "    \n",
    "for letter in range(1,n+1):\n",
    "    password+=random.choice(numbers)\n",
    "\n",
    "for letter in range(1,n+1):\n",
    "    password+=random.choice(symbols)\n",
    "\n",
    "random.shuffle(password)\n",
    "\n",
    "pypassword=\"\"\n",
    "for i in password:\n",
    "    pypassword+=i\n",
    "print(pypassword)"
   ]
  }
 ],
 "metadata": {
  "kernelspec": {
   "display_name": "Python 3",
   "language": "python",
   "name": "python3"
  },
  "language_info": {
   "codemirror_mode": {
    "name": "ipython",
    "version": 3
   },
   "file_extension": ".py",
   "mimetype": "text/x-python",
   "name": "python",
   "nbconvert_exporter": "python",
   "pygments_lexer": "ipython3",
   "version": "3.8.5"
  }
 },
 "nbformat": 4,
 "nbformat_minor": 4
}
